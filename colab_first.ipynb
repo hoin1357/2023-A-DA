{
  "nbformat": 4,
  "nbformat_minor": 0,
  "metadata": {
    "colab": {
      "provenance": [],
      "authorship_tag": "ABX9TyM1+ZJofYMgwzndhjISX6Gh",
      "include_colab_link": true
    },
    "kernelspec": {
      "name": "python3",
      "display_name": "Python 3"
    },
    "language_info": {
      "name": "python"
    }
  },
  "cells": [
    {
      "cell_type": "markdown",
      "metadata": {
        "id": "view-in-github",
        "colab_type": "text"
      },
      "source": [
        "<a href=\"https://colab.research.google.com/github/hoin1357/2023-A-DA/blob/main/colab_first.ipynb\" target=\"_parent\"><img src=\"https://colab.research.google.com/assets/colab-badge.svg\" alt=\"Open In Colab\"/></a>"
      ]
    },
    {
      "cell_type": "code",
      "execution_count": 1,
      "metadata": {
        "id": "bn5-TcpLdeFR"
      },
      "outputs": [],
      "source": [
        "import site"
      ]
    },
    {
      "cell_type": "code",
      "source": [
        "site.getsitepackages\n"
      ],
      "metadata": {
        "colab": {
          "base_uri": "https://localhost:8080/"
        },
        "id": "PjKkYc7MdkUU",
        "outputId": "8c64e1b1-5bbf-4997-b0fb-129432cb03f6"
      },
      "execution_count": 2,
      "outputs": [
        {
          "output_type": "execute_result",
          "data": {
            "text/plain": [
              "<function site.getsitepackages(prefixes=None)>"
            ]
          },
          "metadata": {},
          "execution_count": 2
        }
      ]
    }
  ]
}